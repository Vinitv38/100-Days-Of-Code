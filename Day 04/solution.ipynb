{
 "cells": [
  {
   "cell_type": "code",
   "execution_count": 1,
   "metadata": {},
   "outputs": [
    {
     "name": "stdout",
     "output_type": "stream",
     "text": [
      "True\n"
     ]
    }
   ],
   "source": [
    "class Solution(object):\n",
    "    def isAnagram(s, t):\n",
    "        s = ''.join(sorted(s))\n",
    "        t = ''.join(sorted(t))\n",
    "        if s==t:\n",
    "            return True\n",
    "        return False\n",
    "    \n",
    "    string_1 = \"anagram\"\n",
    "    string_2 = \"nagaram\"\n",
    "    print(isAnagram( string_1, string_2))"
   ]
  }
 ],
 "metadata": {
  "kernelspec": {
   "display_name": "Python 3",
   "language": "python",
   "name": "python3"
  },
  "language_info": {
   "codemirror_mode": {
    "name": "ipython",
    "version": 3
   },
   "file_extension": ".py",
   "mimetype": "text/x-python",
   "name": "python",
   "nbconvert_exporter": "python",
   "pygments_lexer": "ipython3",
   "version": "3.11.4"
  }
 },
 "nbformat": 4,
 "nbformat_minor": 2
}
